{
 "cells": [
  {
   "cell_type": "markdown",
   "id": "1a81b74b",
   "metadata": {},
   "source": [
    "<div style=\"background-color:#003366; color:white ; padding: 15px; border-radius: 5px;\">\n",
    "\n",
    "📜INTRODUÇÃO DO PROJETO: Previsão de Churn no Beta Bank\n",
    "\n",
    "\n",
    "O Beta Bank enfrenta o desafio estratégico de uma taxa crescente de evasão de clientes (Churn). Reconhecendo que a retenção de clientes existentes é significativamente mais econômica do que a aquisição de novos, o foco do banco mudou para a antecipação e prevenção de rescisões de contrato.\n",
    "\n",
    "O objetivo deste projeto de Machine Learning é desenvolver um modelo preditivo robusto, baseado em dados históricos de comportamento e rescisão de clientes. O modelo será capaz de prever a probabilidade de um cliente deixar o banco em breve.\n",
    "\n",
    "Utilizaremos técnicas de classificação binária, como a Regressão Logística, para identificar os fatores de risco (features) mais influentes, permitindo que o Beta Bank implemente ações de retenção direcionadas e, consequentemente, minimize o Churn.\"\n",
    "</div>"
   ]
  },
  {
   "cell_type": "code",
   "execution_count": 43,
   "id": "d10aa8a7",
   "metadata": {},
   "outputs": [],
   "source": [
    "import pandas as pd\n",
    "from sklearn.preprocessing import OneHotEncoder\n",
    "from sklearn.model_selection import train_test_split\n",
    "from sklearn.linear_model import LogisticRegression\n",
    "from sklearn.metrics import roc_auc_score, accuracy_score\n",
    "import seaborn as sns\n",
    "import matplotlib.pyplot as plt"
   ]
  },
  {
   "cell_type": "code",
   "execution_count": 44,
   "id": "5d2c2f47",
   "metadata": {},
   "outputs": [],
   "source": [
    "# Caminho POSIX para evitar problemas com escapes de backslash\n",
    "data = pd.read_csv('/home/angelaferrari/projeto_final_sprint_9/Sprint-09-Beta-Bank/churn.csv')\n"
   ]
  },
  {
   "cell_type": "code",
   "execution_count": 45,
   "id": "db719ad5",
   "metadata": {},
   "outputs": [
    {
     "name": "stdout",
     "output_type": "stream",
     "text": [
      "   RowNumber  CustomerId   Surname  CreditScore Geography  Gender  Age  \\\n",
      "0          1    15634602  Hargrave          619    France  Female   42   \n",
      "1          2    15647311      Hill          608     Spain  Female   41   \n",
      "2          3    15619304      Onio          502    France  Female   42   \n",
      "3          4    15701354      Boni          699    France  Female   39   \n",
      "4          5    15737888  Mitchell          850     Spain  Female   43   \n",
      "\n",
      "   Tenure    Balance  NumOfProducts  HasCrCard  IsActiveMember  \\\n",
      "0     2.0       0.00              1          1               1   \n",
      "1     1.0   83807.86              1          0               1   \n",
      "2     8.0  159660.80              3          1               0   \n",
      "3     1.0       0.00              2          0               0   \n",
      "4     2.0  125510.82              1          1               1   \n",
      "\n",
      "   EstimatedSalary  Exited  \n",
      "0        101348.88       1  \n",
      "1        112542.58       0  \n",
      "2        113931.57       1  \n",
      "3         93826.63       0  \n",
      "4         79084.10       0  \n"
     ]
    }
   ],
   "source": [
    "print(data.head())"
   ]
  },
  {
   "cell_type": "markdown",
   "id": "13f69004",
   "metadata": {},
   "source": [
    "<div style=\"background-color:brown; color:white; padding: 15px; border-radius: 5px;\">\n",
    "Etapa I : Pré processamento de dados \n",
    "</div>"
   ]
  },
  {
   "cell_type": "code",
   "execution_count": 46,
   "id": "1a7fbac5",
   "metadata": {},
   "outputs": [
    {
     "name": "stdout",
     "output_type": "stream",
     "text": [
      "   rownumber  customerid   surname  creditscore geography  gender  age  \\\n",
      "0          1    15634602  Hargrave          619    France  Female   42   \n",
      "1          2    15647311      Hill          608     Spain  Female   41   \n",
      "2          3    15619304      Onio          502    France  Female   42   \n",
      "3          4    15701354      Boni          699    France  Female   39   \n",
      "4          5    15737888  Mitchell          850     Spain  Female   43   \n",
      "\n",
      "   tenure    balance  numofproducts  hascrcard  isactivemember  \\\n",
      "0     2.0       0.00              1          1               1   \n",
      "1     1.0   83807.86              1          0               1   \n",
      "2     8.0  159660.80              3          1               0   \n",
      "3     1.0       0.00              2          0               0   \n",
      "4     2.0  125510.82              1          1               1   \n",
      "\n",
      "   estimatedsalary  exited  \n",
      "0        101348.88       1  \n",
      "1        112542.58       0  \n",
      "2        113931.57       1  \n",
      "3         93826.63       0  \n",
      "4         79084.10       0  \n"
     ]
    }
   ],
   "source": [
    "# deixar os titulos das colunas em minúsculas  \n",
    "data.columns = data.columns.str.lower() \n",
    "print(data.head())"
   ]
  },
  {
   "cell_type": "code",
   "execution_count": 47,
   "id": "a29cde07",
   "metadata": {},
   "outputs": [
    {
     "name": "stdout",
     "output_type": "stream",
     "text": [
      "rownumber            0\n",
      "customerid           0\n",
      "surname              0\n",
      "creditscore          0\n",
      "geography            0\n",
      "gender               0\n",
      "age                  0\n",
      "tenure             909\n",
      "balance              0\n",
      "numofproducts        0\n",
      "hascrcard            0\n",
      "isactivemember       0\n",
      "estimatedsalary      0\n",
      "exited               0\n",
      "dtype: int64\n"
     ]
    }
   ],
   "source": [
    "# verificar valores nulos\n",
    "print(data.isna().sum())"
   ]
  },
  {
   "cell_type": "markdown",
   "id": "9ca101a5",
   "metadata": {},
   "source": [
    "Observamos 909 nulos na coluna \"Tenure\" - tempo de permanencia do cliente(anos). \n",
    "Tratando-se do fato que é é um forte preditor da saída de um cliente e é crucial para a Regressão Logística, vamos olhar mais de perto a situação e escolher o melhor caminho para o preenchimento dessas informações. Estamos falando em 9% dos dados.\n",
    "\n",
    "O ideal seria sem duvidas, conversar com o time responsável por esses dados, tentar verificar se foi um erro de migração de dados, ou qualquer situação adversa. "
   ]
  },
  {
   "cell_type": "code",
   "execution_count": 48,
   "id": "5bdbeb32",
   "metadata": {},
   "outputs": [
    {
     "name": "stdout",
     "output_type": "stream",
     "text": [
      "Estatísticas da coluna tenure:\n",
      "count    9091.000000\n",
      "mean        4.997690\n",
      "std         2.894723\n",
      "min         0.000000\n",
      "25%         2.000000\n",
      "50%         5.000000\n",
      "75%         7.000000\n",
      "max        10.000000\n",
      "Name: tenure, dtype: float64\n"
     ]
    }
   ],
   "source": [
    "# Análise básica da coluna tenure\n",
    "print(\"Estatísticas da coluna tenure:\")\n",
    "print(data['tenure'].describe())"
   ]
  },
  {
   "cell_type": "code",
   "execution_count": 49,
   "id": "73c48854",
   "metadata": {},
   "outputs": [
    {
     "data": {
      "image/png": "[encoded data removed]",
      "text/plain": [
       "<Figure size 1000x600 with 1 Axes>"
      ]
     },
     "metadata": {},
     "output_type": "display_data"
    }
   ],
   "source": [
    "plt.figure(figsize=(10,6))\n",
    "sns.histplot(data['tenure'].dropna())\n",
    "plt.title('Distribuição de Tenure (excluindo NaN)')\n",
    "plt.show()"
   ]
  },
  {
   "cell_type": "markdown",
   "id": "b2b87ea8",
   "metadata": {},
   "source": [
    "O objetivo nesta comparação é tentar encontrar um grupo com padrão mais semelhante aos ausentes. Considerar que ele talvez seja um grupo de clientes recentes e atribuir valor \"0\" ou calcular uma média para atribuir valor aos ausentes ? ou ainda deixar como ausente. Este é o ponto de análise no momento."
   ]
  },
  {
   "cell_type": "code",
   "execution_count": 50,
   "id": "a248b8f7",
   "metadata": {},
   "outputs": [
    {
     "name": "stdout",
     "output_type": "stream",
     "text": [
      "1. Quantidade de clientes em cada grupo:\n",
      "Tenure = 0: 382\n",
      "Tenure <= 1: 1334\n",
      "Tenure > 1 e <= 3: 1878\n",
      "Tenure > 3 e <= 5: 5879\n",
      "Tenure > 5: 4067\n",
      "Tenure ausente: 909\n",
      "\n",
      "2. Comparação de médias:\n",
      "\n",
      "Média de balance:\n",
      "- Clientes com tenure = 0: 80135.31\n",
      "- Clientes com tenure <= 1: 78158.45\n",
      "- Clientes com tenure > 1 e <= 3: 77294.60\n",
      "- Clientes com tenure > 3 e <= 5: 75905.02\n",
      "- Clientes com tenure > 5: 76237.38\n",
      "- Clientes com tenure ausente: 76117.34\n",
      "\n",
      "Média de numofproducts:\n",
      "- Clientes com tenure = 0: 1.44\n",
      "- Clientes com tenure <= 1: 1.48\n",
      "- Clientes com tenure > 1 e <= 3: 1.56\n",
      "- Clientes com tenure > 3 e <= 5: 1.53\n",
      "- Clientes com tenure > 5: 1.53\n",
      "- Clientes com tenure ausente: 1.53\n",
      "\n",
      "Média de isactivemember:\n",
      "- Clientes com tenure = 0: 0.53\n",
      "- Clientes com tenure <= 1: 0.55\n",
      "- Clientes com tenure > 1 e <= 3: 0.53\n",
      "- Clientes com tenure > 3 e <= 5: 0.50\n",
      "- Clientes com tenure > 5: 0.50\n",
      "- Clientes com tenure ausente: 0.51\n"
     ]
    }
   ],
   "source": [
    "# Criar grupos para comparação\n",
    "zero_tenure = data[data['tenure'] == 0]\n",
    "low_tenure = data[data['tenure'] <= 1]  # clientes com até 1 ano\n",
    "medium_tenure = data[(data['tenure'] > 1) & (data['tenure'] <= 3)]  # clientes com mais de 1 ano até 3 anos\n",
    "high_teure = data[(data['tenure'] > 3) & (data['tenure'] <= 5)]# clientes com mais de 3 anos e até 5 anos\n",
    "super_high_tenure = data[data['tenure'] > 5]  # clientes com mais de 5 anos\n",
    "null_tenure = data[data['tenure'].isnull()]\n",
    "\n",
    "# Comparar perfis\n",
    "print(\"1. Quantidade de clientes em cada grupo:\")\n",
    "print(f\"Tenure = 0: {len(zero_tenure)}\")\n",
    "print(f\"Tenure <= 1: {len(low_tenure)}\")\n",
    "print(f\"Tenure > 1 e <= 3: {len(medium_tenure)}\")\n",
    "print(f\"Tenure > 3 e <= 5: {len(high_tenure)}\")\n",
    "print(f\"Tenure > 5: {len(super_high_tenure)}\")\n",
    "print(f\"Tenure ausente: {len(null_tenure)}\")\n",
    "\n",
    "# Comparar médias de outras variáveis importantes\n",
    "vars_to_compare = ['balance', 'numofproducts','isactivemember']\n",
    "print(\"\\n2. Comparação de médias:\")\n",
    "for var in vars_to_compare:\n",
    "    print(f\"\\nMédia de {var}:\")\n",
    "    print(f\"- Clientes com tenure = 0: {zero_tenure[var].mean():.2f}\")\n",
    "    print(f\"- Clientes com tenure <= 1: {low_tenure[var].mean():.2f}\")\n",
    "    print(f\"- Clientes com tenure > 1 e <= 3: {medium_tenure[var].mean():.2f}\")\n",
    "    print(f\"- Clientes com tenure > 3 e <= 5: {high_tenure[var].mean():.2f}\")\n",
    "    print(f\"- Clientes com tenure > 5: {super_high_tenure[var].mean():.2f}\")\n",
    "    print(f\"- Clientes com tenure ausente: {null_tenure[var].mean():.2f}\")"
   ]
  },
  {
   "cell_type": "code",
   "execution_count": 51,
   "id": "4942fef6",
   "metadata": {},
   "outputs": [
    {
     "name": "stdout",
     "output_type": "stream",
     "text": [
      "\n",
      "Estatísticas de tenure por status de saída:\n",
      "         count      mean       std  min  25%  50%  75%   max\n",
      "exited                                                      \n",
      "0       7237.0  5.022247  2.881467  0.0  3.0  5.0  7.0  10.0\n",
      "1       1854.0  4.901834  2.944727  0.0  2.0  5.0  7.0  10.0\n"
     ]
    },
    {
     "data": {
      "image/png": "[encoded data removed]",
      "text/plain": [
       "<Figure size 1000x600 with 1 Axes>"
      ]
     },
     "metadata": {},
     "output_type": "display_data"
    }
   ],
   "source": [
    "# Análise de tenure por status de exited\n",
    "print(\"\\nEstatísticas de tenure por status de saída:\")\n",
    "print(data.groupby('exited')['tenure'].describe())\n",
    "\n",
    "# Boxplot de tenure por exited\n",
    "plt.figure(figsize=(10,6))\n",
    "sns.boxplot(data=data, x='exited', y='tenure')\n",
    "plt.title('Distribuição de Tenure por Status de Saída')\n",
    "plt.xlabel('Exited (0=Permaneceu, 1=Saiu)')\n",
    "plt.ylabel('Tenure (anos)')\n",
    "plt.show()"
   ]
  },
  {
   "cell_type": "markdown",
   "id": "c64f4b94",
   "metadata": {},
   "source": [
    "O resultado do gráfico de caixa nos mostra que clientes que saíram tem \"tenure\" mínimo de 2 anos e mediana 5. Sugere que imputar \"0\" para os ausentes da coluna 'tenure' posso estar erradamente assumindo que são clientes \"novos\""
   ]
  },
  {
   "cell_type": "code",
   "execution_count": 52,
   "id": "e2043727",
   "metadata": {},
   "outputs": [
    {
     "name": "stdout",
     "output_type": "stream",
     "text": [
      "nulos tenure: 909\n",
      "exited dentre nulos: 183 (20.13%)\n"
     ]
    }
   ],
   "source": [
    "# quantidades e taxa de saída no grupo com NaN\n",
    "n_null = null_tenure.shape[0]\n",
    "exited_null = null_tenure['exited'].sum()\n",
    "print(\"nulos tenure:\", n_null)\n",
    "print(\"exited dentre nulos:\", exited_null, f\"({exited_null / n_null:.2%})\")"
   ]
  },
  {
   "cell_type": "markdown",
   "id": "4be38cc4",
   "metadata": {},
   "source": [
    "Podemos comparar as taxas de saída (churn) entre os diferentes grupos de tenure e o grupo com valores ausentes. Isto nos ajudará a entender melhor o perfil dos clientes com tenure ausente e possivelmente identificar qual grupo eles mais se assemelham."
   ]
  },
  {
   "cell_type": "code",
   "execution_count": 56,
   "id": "5ca08cdb",
   "metadata": {},
   "outputs": [
    {
     "data": {
      "image/png": "[encoded data removed]",
      "text/plain": [
       "<Figure size 1200x600 with 1 Axes>"
      ]
     },
     "metadata": {},
     "output_type": "display_data"
    }
   ],
   "source": [
    "# Criar visualização das taxas de churn por grupo\n",
    "churn_rates = {\n",
    "    'Tenure = 0': zero_tenure['exited'].mean(),\n",
    "    'Tenure ≤ 1': low_tenure['exited'].mean(),\n",
    "    'Tenure 1-3': medium_tenure['exited'].mean(),\n",
    "    'Tenure 3-5': high_tenure['exited'].mean(),\n",
    "    'Tenure > 5': super_high_tenure['exited'].mean(),\n",
    "    'Tenure Nulo': null_tenure['exited'].mean()\n",
    "}\n",
    "\n",
    "plt.figure(figsize=(12,6))\n",
    "bars = plt.bar(churn_rates.keys(), [v*100 for v in churn_rates.values()])\n",
    "plt.title('Taxa de Churn por Grupo de Tenure')\n",
    "plt.xlabel('Grupo de Tenure')\n",
    "plt.ylabel('Taxa de Churn (%)')\n",
    "plt.xticks(rotation=45)\n",
    "\n",
    "# Adicionar valores nas barras\n",
    "for bar in bars:\n",
    "    height = bar.get_height()\n",
    "    plt.text(bar.get_x() + bar.get_width()/2., height,\n",
    "             f'{height:.1f}%',\n",
    "             ha='center', va='bottom')\n",
    "\n",
    "plt.tight_layout()\n",
    "plt.show()"
   ]
  },
  {
   "cell_type": "markdown",
   "id": "d89d8ebb",
   "metadata": {},
   "source": [
    "Nesse caso, me parece que o grupo de ausentes mais se assemelha ao tenure 1-3 anos."
   ]
  },
  {
   "cell_type": "code",
   "execution_count": 54,
   "id": "b748f9c0",
   "metadata": {},
   "outputs": [
    {
     "name": "stdout",
     "output_type": "stream",
     "text": [
      "Churn dos nulos: 20.13%\n",
      "Churn por grupo:\n",
      " - tenure_0: 23.56%\n",
      " - tenure_le_1: 22.71%\n",
      " - tenure_1_3: 20.39%\n",
      " - tenure_3_5: 19.87%\n",
      " - tenure_gt_5: 19.60%\n",
      "Grupo selecionado para imputação (mais próximo por churn): tenure_1_3\n",
      "Mediana de tenure do grupo selecionado: 2.0\n",
      "\n",
      "Linhas com tenure originalmente ausente: 909\n",
      "Taxa de churn entre esses registros (antes e depois da imputação é a mesma): 20.13%\n",
      "\n",
      "Resumo das abordagens:\n",
      " - Imputação numérica com mediana selecionada: cria coluna tenure_imputed e indicador tenure_missing\n",
      " - Representação como categoria desconhecida: cria coluna tenure_unknown_cat com valor -1 e indicador tenure_missing\n"
     ]
    },
    {
     "data": {
      "text/html": [
       "<div>\n",
       "<style scoped>\n",
       "    .dataframe tbody tr th:only-of-type {\n",
       "        vertical-align: middle;\n",
       "    }\n",
       "\n",
       "    .dataframe tbody tr th {\n",
       "        vertical-align: top;\n",
       "    }\n",
       "\n",
       "    .dataframe thead th {\n",
       "        text-align: right;\n",
       "    }\n",
       "</style>\n",
       "<table border=\"1\" class=\"dataframe\">\n",
       "  <thead>\n",
       "    <tr style=\"text-align: right;\">\n",
       "      <th></th>\n",
       "      <th>tenure</th>\n",
       "      <th>tenure_missing</th>\n",
       "      <th>tenure_imputed</th>\n",
       "    </tr>\n",
       "  </thead>\n",
       "  <tbody>\n",
       "    <tr>\n",
       "      <th>0</th>\n",
       "      <td>2.0</td>\n",
       "      <td>0</td>\n",
       "      <td>2.0</td>\n",
       "    </tr>\n",
       "    <tr>\n",
       "      <th>1</th>\n",
       "      <td>1.0</td>\n",
       "      <td>0</td>\n",
       "      <td>1.0</td>\n",
       "    </tr>\n",
       "    <tr>\n",
       "      <th>2</th>\n",
       "      <td>8.0</td>\n",
       "      <td>0</td>\n",
       "      <td>8.0</td>\n",
       "    </tr>\n",
       "    <tr>\n",
       "      <th>3</th>\n",
       "      <td>1.0</td>\n",
       "      <td>0</td>\n",
       "      <td>1.0</td>\n",
       "    </tr>\n",
       "    <tr>\n",
       "      <th>4</th>\n",
       "      <td>2.0</td>\n",
       "      <td>0</td>\n",
       "      <td>2.0</td>\n",
       "    </tr>\n",
       "    <tr>\n",
       "      <th>5</th>\n",
       "      <td>8.0</td>\n",
       "      <td>0</td>\n",
       "      <td>8.0</td>\n",
       "    </tr>\n",
       "    <tr>\n",
       "      <th>6</th>\n",
       "      <td>7.0</td>\n",
       "      <td>0</td>\n",
       "      <td>7.0</td>\n",
       "    </tr>\n",
       "    <tr>\n",
       "      <th>7</th>\n",
       "      <td>4.0</td>\n",
       "      <td>0</td>\n",
       "      <td>4.0</td>\n",
       "    </tr>\n",
       "  </tbody>\n",
       "</table>\n",
       "</div>"
      ],
      "text/plain": [
       "   tenure  tenure_missing  tenure_imputed\n",
       "0     2.0               0             2.0\n",
       "1     1.0               0             1.0\n",
       "2     8.0               0             8.0\n",
       "3     1.0               0             1.0\n",
       "4     2.0               0             2.0\n",
       "5     8.0               0             8.0\n",
       "6     7.0               0             7.0\n",
       "7     4.0               0             4.0"
      ]
     },
     "metadata": {},
     "output_type": "display_data"
    },
    {
     "data": {
      "text/html": [
       "<div>\n",
       "<style scoped>\n",
       "    .dataframe tbody tr th:only-of-type {\n",
       "        vertical-align: middle;\n",
       "    }\n",
       "\n",
       "    .dataframe tbody tr th {\n",
       "        vertical-align: top;\n",
       "    }\n",
       "\n",
       "    .dataframe thead th {\n",
       "        text-align: right;\n",
       "    }\n",
       "</style>\n",
       "<table border=\"1\" class=\"dataframe\">\n",
       "  <thead>\n",
       "    <tr style=\"text-align: right;\">\n",
       "      <th></th>\n",
       "      <th>tenure</th>\n",
       "      <th>tenure_missing</th>\n",
       "      <th>tenure_unknown_cat</th>\n",
       "    </tr>\n",
       "  </thead>\n",
       "  <tbody>\n",
       "    <tr>\n",
       "      <th>0</th>\n",
       "      <td>2.0</td>\n",
       "      <td>0</td>\n",
       "      <td>2.0</td>\n",
       "    </tr>\n",
       "    <tr>\n",
       "      <th>1</th>\n",
       "      <td>1.0</td>\n",
       "      <td>0</td>\n",
       "      <td>1.0</td>\n",
       "    </tr>\n",
       "    <tr>\n",
       "      <th>2</th>\n",
       "      <td>8.0</td>\n",
       "      <td>0</td>\n",
       "      <td>8.0</td>\n",
       "    </tr>\n",
       "    <tr>\n",
       "      <th>3</th>\n",
       "      <td>1.0</td>\n",
       "      <td>0</td>\n",
       "      <td>1.0</td>\n",
       "    </tr>\n",
       "    <tr>\n",
       "      <th>4</th>\n",
       "      <td>2.0</td>\n",
       "      <td>0</td>\n",
       "      <td>2.0</td>\n",
       "    </tr>\n",
       "    <tr>\n",
       "      <th>5</th>\n",
       "      <td>8.0</td>\n",
       "      <td>0</td>\n",
       "      <td>8.0</td>\n",
       "    </tr>\n",
       "    <tr>\n",
       "      <th>6</th>\n",
       "      <td>7.0</td>\n",
       "      <td>0</td>\n",
       "      <td>7.0</td>\n",
       "    </tr>\n",
       "    <tr>\n",
       "      <th>7</th>\n",
       "      <td>4.0</td>\n",
       "      <td>0</td>\n",
       "      <td>4.0</td>\n",
       "    </tr>\n",
       "  </tbody>\n",
       "</table>\n",
       "</div>"
      ],
      "text/plain": [
       "   tenure  tenure_missing  tenure_unknown_cat\n",
       "0     2.0               0                 2.0\n",
       "1     1.0               0                 1.0\n",
       "2     8.0               0                 8.0\n",
       "3     1.0               0                 1.0\n",
       "4     2.0               0                 2.0\n",
       "5     8.0               0                 8.0\n",
       "6     7.0               0                 7.0\n",
       "7     4.0               0                 4.0"
      ]
     },
     "metadata": {},
     "output_type": "display_data"
    }
   ],
   "source": [
    "# Estratégia automática de imputação com base no grupo de churn mais próximo\n",
    "# Recalcular churns e medianas (garante que células anteriores foram executadas ou os objetos existem)\n",
    "churn_map = {\n",
    "    'tenure_0': zero_tenure['exited'].mean(),\n",
    "    'tenure_le_1': low_tenure['exited'].mean(),\n",
    "    'tenure_1_3': medium_tenure['exited'].mean(),\n",
    "    'tenure_3_5': high_tenure['exited'].mean(),\n",
    "    'tenure_gt_5': super_high_tenure['exited'].mean()\n",
    "}\n",
    "mediana_map = {\n",
    "    'tenure_0': zero_tenure['tenure'].median(),\n",
    "    'tenure_le_1': low_tenure['tenure'].median(),\n",
    "    'tenure_1_3': medium_tenure['tenure'].median(),\n",
    "    'tenure_3_5': high_tenure['tenure'].median(),\n",
    "    'tenure_gt_5': super_high_tenure['tenure'].median()\n",
    "}\n",
    "\n",
    "null_rate = null_tenure['exited'].mean()\n",
    "# escolher o grupo (exceto nulo) com churn mais próximo do churn dos nulos\n",
    "best_group = min(churn_map.keys(), key=lambda k: abs(churn_map[k] - null_rate))\n",
    "selected_median = mediana_map[best_group]\n",
    "\n",
    "print(f\"Churn dos nulos: {null_rate:.2%}\")\n",
    "print(\"Churn por grupo:\")\n",
    "for k,v in churn_map.items():\n",
    "    print(f\" - {k}: {v:.2%}\")\n",
    "print(f\"Grupo selecionado para imputação (mais próximo por churn): {best_group}\")\n",
    "print(f\"Mediana de tenure do grupo selecionado: {selected_median}\")\n",
    "\n",
    "# Preparar dataset imputado com indicador\n",
    "data_imputed = data.copy()\n",
    "data_imputed['tenure_missing'] = data_imputed['tenure'].isnull().astype(int)\n",
    "# criar coluna nova 'tenure_imputed' para preservar original\n",
    "data_imputed['tenure_imputed'] = data_imputed['tenure'].fillna(selected_median)\n",
    "\n",
    "# Resumo pós-imputação\n",
    "n_imputed = data_imputed['tenure_missing'].sum()\n",
    "churn_among_missing = data_imputed.loc[data_imputed['tenure_missing']==1, 'exited'].mean()\n",
    "print(f\"\\nLinhas com tenure originalmente ausente: {n_imputed}\")\n",
    "print(f\"Taxa de churn entre esses registros (antes e depois da imputação é a mesma): {churn_among_missing:.2%}\")\n",
    "\n",
    "# Criar alternativa: manter -1 como categoria para tenure desconhecido\n",
    "data_unknown_cat = data.copy()\n",
    "data_unknown_cat['tenure_missing'] = data_unknown_cat['tenure'].isnull().astype(int)\n",
    "# marcar com -1 (ou outro valor sentinel) para representação categórica\n",
    "data_unknown_cat['tenure_unknown_cat'] = data_unknown_cat['tenure'].fillna(-1)\n",
    "\n",
    "print('\\nResumo das abordagens:')\n",
    "print(' - Imputação numérica com mediana selecionada: cria coluna tenure_imputed e indicador tenure_missing')\n",
    "print(' - Representação como categoria desconhecida: cria coluna tenure_unknown_cat com valor -1 e indicador tenure_missing')\n",
    "\n",
    "# Mostrar primeiras linhas para ver mudanças\n",
    "display(data_imputed[['tenure','tenure_missing','tenure_imputed']].head(8))\n",
    "display(data_unknown_cat[['tenure','tenure_missing','tenure_unknown_cat']].head(8))"
   ]
  },
  {
   "cell_type": "code",
   "execution_count": 64,
   "id": "b2805095",
   "metadata": {},
   "outputs": [
    {
     "name": "stdout",
     "output_type": "stream",
     "text": [
      "0\n"
     ]
    }
   ],
   "source": [
    "print(data.duplicated().sum())"
   ]
  },
  {
   "cell_type": "markdown",
   "id": "8f52ab3e",
   "metadata": {},
   "source": [
    "Não duplicados para nos preocuparmos."
   ]
  },
  {
   "cell_type": "code",
   "execution_count": 56,
   "id": "d70ddc14",
   "metadata": {},
   "outputs": [
    {
     "name": "stdout",
     "output_type": "stream",
     "text": [
      "(10000, 14)\n"
     ]
    }
   ],
   "source": [
    "print(data.shape)"
   ]
  },
  {
   "cell_type": "markdown",
   "id": "b2b6b2f3",
   "metadata": {},
   "source": [
    "\n",
    "<div style=\"background-color:brown; color:white; padding: 15px; border-radius: 5px;\">\n",
    "Etapa II :  Pré processamento de dados para Machine Learning \n",
    "</div>\n"
   ]
  },
  {
   "cell_type": "markdown",
   "id": "5726aa17",
   "metadata": {},
   "source": [
    "Abaixo estamos reforçando quais são as colunas categoricas e verificando a sua cardinalidade"
   ]
  },
  {
   "cell_type": "code",
   "execution_count": 57,
   "id": "ebb520a4",
   "metadata": {},
   "outputs": [
    {
     "name": "stdout",
     "output_type": "stream",
     "text": [
      "categorical cols: ['surname', 'geography', 'gender']\n"
     ]
    }
   ],
   "source": [
    "# colunas categóricas pelo dtype\n",
    "cat_cols = data.select_dtypes(include=['object','category']).columns.tolist()\n",
    "print(\"categorical cols:\", cat_cols)\n",
    "\n"
   ]
  },
  {
   "cell_type": "markdown",
   "id": "7349eda3",
   "metadata": {},
   "source": [
    "As colunas categóricas são: \"surname\" (sobrenome dos clientes), \"geography\" (região de residencia do cliente), \"gender\" (gênero), que contém apenas duas opções: Masculino ou Feminino."
   ]
  },
  {
   "cell_type": "markdown",
   "id": "5ad3149b",
   "metadata": {},
   "source": [
    "Abaixo a Cardinalidade de cada uma dessas colunas categóricas que identificamos"
   ]
  },
  {
   "cell_type": "code",
   "execution_count": 58,
   "id": "46b13cd4",
   "metadata": {},
   "outputs": [
    {
     "name": "stdout",
     "output_type": "stream",
     "text": [
      "surname      2932\n",
      "geography       3\n",
      "gender          2\n",
      "dtype: int64\n"
     ]
    }
   ],
   "source": [
    "# cardinalidade de cada coluna categórica\n",
    "card = data[cat_cols].nunique().sort_values(ascending=False)\n",
    "print(card)"
   ]
  },
  {
   "cell_type": "markdown",
   "id": "986a2249",
   "metadata": {},
   "source": [
    "Nota-se: Alta cardinalidade da coluna \"surname\""
   ]
  },
  {
   "cell_type": "markdown",
   "id": "252b9faa",
   "metadata": {},
   "source": [
    "Abaixo esta sendo realizado o pré processamento de dados para trabalharmos com o algoritmo:\n",
    "\n",
    "Colunas com variáveis discretas sendo \"convertidas\" para variáveis continuas. \n",
    "\n",
    "A coluna 'surname' esta sendo removida, pois não agrega valor para os nossos features e possui alta cardinalidade(como visto acima), isso aumentaria muito o número de colunas do dataset."
   ]
  },
  {
   "cell_type": "code",
   "execution_count": 59,
   "id": "53c0edb8",
   "metadata": {},
   "outputs": [],
   "source": [
    "# One-Hot Encoding para colunas categóricas selecionadas\n",
    "data = pd.get_dummies(data, columns=['geography','gender'], drop_first=True)"
   ]
  },
  {
   "cell_type": "code",
   "execution_count": 61,
   "id": "4b2b8005",
   "metadata": {},
   "outputs": [],
   "source": [
    "# Remover coluna 'surname' que não é útil para o modelo - Alta cardinalidade\n",
    "data= data.drop(['surname'], axis=1)"
   ]
  },
  {
   "cell_type": "markdown",
   "id": "ffe54d82",
   "metadata": {},
   "source": [
    "Análise da variável 'Exited' (Churn)\n",
    "No nosso dataset, a saída de clientes (churn) está representada pela coluna 'exited':\n",
    "- exited = 1: cliente que saiu do banco\n",
    "- exited = 0: cliente que permaneceu\n",
    "\n",
    "Aqui podemos verificar se há desequilibrio de classes"
   ]
  },
  {
   "cell_type": "code",
   "execution_count": 74,
   "id": "aac10ff3",
   "metadata": {},
   "outputs": [
    {
     "name": "stdout",
     "output_type": "stream",
     "text": [
      "Distribuição de clientes que saíram vs permaneceram:\n",
      "exited\n",
      "0    79.63\n",
      "1    20.37\n",
      "Name: proportion, dtype: float64\n"
     ]
    },
    {
     "data": {
      "image/png": "[encoded data removed]",
      "text/plain": [
       "<Figure size 1000x600 with 1 Axes>"
      ]
     },
     "metadata": {},
     "output_type": "display_data"
    }
   ],
   "source": [
    "# Análise da distribuição de exited\n",
    "print(\"Distribuição de clientes que saíram vs permaneceram:\")\n",
    "print(data['exited'].value_counts(normalize=True).mul(100).round(2))\n",
    "\n",
    "# Visualização\n",
    "plt.figure(figsize=(10,6))\n",
    "sns.countplot(data=data, x='exited')\n",
    "plt.title('Distribuição de Clientes (Saíram vs Permaneceram)')\n",
    "plt.xlabel('Exited (0=Permaneceu, 1=Saiu)')\n",
    "plt.ylabel('Número de Clientes')\n",
    "plt.show()"
   ]
  },
  {
   "cell_type": "markdown",
   "id": "db20f113",
   "metadata": {},
   "source": [
    "Nota-se: Há um grande desequilibrio de classes como visto no gráfico acima. "
   ]
  }
 ],
 "metadata": {
  "kernelspec": {
   "display_name": "Sprint09",
   "language": "python",
   "name": "python3"
  },
  "language_info": {
   "codemirror_mode": {
    "name": "ipython",
    "version": 3
   },
   "file_extension": ".py",
   "mimetype": "text/x-python",
   "name": "python",
   "nbconvert_exporter": "python",
   "pygments_lexer": "ipython3",
   "version": "3.9.24"
  }
 },
 "nbformat": 4,
 "nbformat_minor": 5
}
